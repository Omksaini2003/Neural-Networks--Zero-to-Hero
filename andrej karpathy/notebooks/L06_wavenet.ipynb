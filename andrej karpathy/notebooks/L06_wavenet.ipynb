{
 "cells": [
  {
   "cell_type": "code",
   "execution_count": 1,
   "metadata": {},
   "outputs": [],
   "source": [
    "import torch\n",
    "import torch.nn.functional as F\n",
    "import matplotlib.pyplot as plt # for making figures\n",
    "%matplotlib inline"
   ]
  },
  {
   "cell_type": "code",
   "execution_count": 3,
   "metadata": {},
   "outputs": [
    {
     "name": "stdout",
     "output_type": "stream",
     "text": [
      "32033\n",
      "15\n",
      "['emma', 'olivia', 'ava', 'isabella', 'sophia', 'charlotte', 'mia', 'amelia']\n"
     ]
    }
   ],
   "source": [
    "# read in all the words\n",
    "words = open('names.txt', 'r').read().splitlines()\n",
    "print(len(words))\n",
    "print(max(len(w) for w in words))\n",
    "print(words[:8])"
   ]
  },
  {
   "cell_type": "code",
   "execution_count": 4,
   "metadata": {},
   "outputs": [
    {
     "name": "stdout",
     "output_type": "stream",
     "text": [
      "{1: 'a', 2: 'b', 3: 'c', 4: 'd', 5: 'e', 6: 'f', 7: 'g', 8: 'h', 9: 'i', 10: 'j', 11: 'k', 12: 'l', 13: 'm', 14: 'n', 15: 'o', 16: 'p', 17: 'q', 18: 'r', 19: 's', 20: 't', 21: 'u', 22: 'v', 23: 'w', 24: 'x', 25: 'y', 26: 'z', 0: '.'}\n",
      "27\n"
     ]
    }
   ],
   "source": [
    "# build the vocabulary of characters and mappings to/from integers\n",
    "chars = sorted(list(set(''.join(words))))\n",
    "stoi = {s:i+1 for i,s in enumerate(chars)}\n",
    "stoi['.'] = 0\n",
    "itos = {i:s for s,i in stoi.items()}\n",
    "vocab_size = len(itos)\n",
    "print(itos)\n",
    "print(vocab_size)"
   ]
  },
  {
   "cell_type": "code",
   "execution_count": 5,
   "metadata": {},
   "outputs": [],
   "source": [
    "# shuffle up the words\n",
    "import random\n",
    "random.seed(42)\n",
    "random.shuffle(words)"
   ]
  },
  {
   "cell_type": "code",
   "execution_count": 6,
   "metadata": {},
   "outputs": [
    {
     "name": "stdout",
     "output_type": "stream",
     "text": [
      "torch.Size([182625, 8]) torch.Size([182625])\n",
      "torch.Size([22655, 8]) torch.Size([22655])\n",
      "torch.Size([22866, 8]) torch.Size([22866])\n"
     ]
    }
   ],
   "source": [
    "# build the dataset\n",
    "block_size = 8 # context length: how many characters do we take to predict the next one?\n",
    "\n",
    "def build_dataset(words):  \n",
    "  X, Y = [], []\n",
    "  \n",
    "  for w in words:\n",
    "    context = [0] * block_size\n",
    "    for ch in w + '.':\n",
    "      ix = stoi[ch]\n",
    "      X.append(context)\n",
    "      Y.append(ix)\n",
    "      context = context[1:] + [ix] # crop and append\n",
    "\n",
    "  X = torch.tensor(X)\n",
    "  Y = torch.tensor(Y)\n",
    "  print(X.shape, Y.shape)\n",
    "  return X, Y\n",
    "\n",
    "n1 = int(0.8*len(words))\n",
    "n2 = int(0.9*len(words))\n",
    "Xtr,  Ytr  = build_dataset(words[:n1])     # 80%\n",
    "Xdev, Ydev = build_dataset(words[n1:n2])   # 10%\n",
    "Xte,  Yte  = build_dataset(words[n2:])     # 10%"
   ]
  },
  {
   "cell_type": "code",
   "execution_count": 7,
   "metadata": {},
   "outputs": [
    {
     "name": "stdout",
     "output_type": "stream",
     "text": [
      "........ --> y\n",
      ".......y --> u\n",
      "......yu --> h\n",
      ".....yuh --> e\n",
      "....yuhe --> n\n",
      "...yuhen --> g\n",
      "..yuheng --> .\n",
      "........ --> d\n",
      ".......d --> i\n",
      "......di --> o\n",
      ".....dio --> n\n",
      "....dion --> d\n",
      "...diond --> r\n",
      "..diondr --> e\n",
      ".diondre --> .\n",
      "........ --> x\n",
      ".......x --> a\n",
      "......xa --> v\n",
      ".....xav --> i\n",
      "....xavi --> e\n"
     ]
    }
   ],
   "source": [
    "for x,y in zip(Xtr[:20], Ytr[:20]):\n",
    "  print(''.join(itos[ix.item()] for ix in x), '-->', itos[y.item()])"
   ]
  },
  {
   "cell_type": "code",
   "execution_count": 9,
   "metadata": {},
   "outputs": [],
   "source": [
    "g = torch.Generator().manual_seed(2147483647) # for reproducibility\n"
   ]
  },
  {
   "cell_type": "code",
   "execution_count": 25,
   "metadata": {},
   "outputs": [],
   "source": [
    "from typing import Any\n",
    "\n",
    "\n",
    "class Linear:\n",
    "      \n",
    "      def __init__(self, fan_in, fan_out, bias = True):\n",
    "            self.weight = torch.randn((fan_in, fan_out)) / fan_in**0.5\n",
    "            self.bias = torch.zeros(fan_out) if bias else None\n",
    "      \n",
    "      def __call__(self, x):\n",
    "            self.out = x @ self.weight\n",
    "            if self.bias is not None:\n",
    "                  self.out += self.bias\n",
    "            return self.out\n",
    "      \n",
    "      def parameters(self):\n",
    "            return [self.weight] + ([] if self.bias is None else [self.bias])\n",
    "\n",
    "#-------------------------------------------------------------------------------------------------------------------------\n",
    "\n",
    "class BatchNorm1d:\n",
    "      \n",
    "      def __init__(self, dim, eps= 1e-5, momentum= 0.1):\n",
    "            self.eps = eps\n",
    "            self.momentum = momentum\n",
    "            self.training = True\n",
    "            # parameters (trained with backprop)\n",
    "            self.gamma = torch.ones(dim)\n",
    "            self.beta = torch.zeros(dim)\n",
    "            # buffers (trained with a running 'momentum update')\n",
    "            self.running_mean = torch.zeros(dim)\n",
    "            self.running_var = torch.ones(dim)\n",
    "      \n",
    "      def __call__(self, x):\n",
    "            #calculate the forward pass\n",
    "            if self.training:\n",
    "                  xmean = x.mean(0, keepdim=True) #batch mean\n",
    "                  xvar = x.var(0, keepdim=True) #batch variance\n",
    "            else:\n",
    "                  xmean = self.running_mean\n",
    "                  xvar = self.running_var\n",
    "            xhat = (x - xmean)/torch.sqrt(xvar + self.eps) # normalize to unit variance\n",
    "            self.out = self.gamma * xhat + self.beta\n",
    "            # update the buffers\n",
    "            if self.training:\n",
    "                  with torch.no_grad():\n",
    "                        self.running_mean = (1 - self.momentum)*self.running_mean + self.momentum*xmean\n",
    "                        self.running_var = (1 - self.momentum)*self.running_var + self.momentum*xvar\n",
    "            \n",
    "            return self.out\n",
    "      \n",
    "      def parameters(self):\n",
    "            return [self.gamma, self.beta]\n",
    "\n",
    "#-------------------------------------------------------------------------------------------------------------------------\n",
    "\n",
    "class Tanh:\n",
    "      def __call__(self, x):\n",
    "            self.out = torch.tanh(x)\n",
    "            return self.out\n",
    "\n",
    "      def parameters(self):\n",
    "            return []\n",
    "\n",
    "#-------------------------------------------------------------------------------------------------------------------------\n",
    "\n",
    "class Embedding:\n",
    "        \n",
    "  def __init__(self, num_embeddings, embedding_dim):\n",
    "    self.weight = torch.randn((num_embeddings, embedding_dim))\n",
    "    \n",
    "  def __call__(self, IX):\n",
    "    self.out = self.weight[IX]\n",
    "    return self.out\n",
    "  \n",
    "  def parameters(self):\n",
    "    return [self.weight]\n",
    "\n",
    "#-------------------------------------------------------------------------------------------------------------------------\n",
    "\n",
    "class Flatten:\n",
    "      \n",
    "      def __call__(self,x):\n",
    "            self.out = x.view(x.shape[0],-1)\n",
    "            return self.out\n",
    "      \n",
    "      def parameters(self):\n",
    "            return []\n",
    "\n",
    "#-------------------------------------------------------------------------------------------------------------------------\n",
    "\n",
    "class Sequential:\n",
    "      \n",
    "      def __init__(self, layers):\n",
    "            self.layers = layers\n",
    "      \n",
    "      def __call__(self,x):\n",
    "            for layer in self.layers:\n",
    "                  x = layer(x)\n",
    "            self.out = x\n",
    "            return self.out \n",
    "      \n",
    "      def parameters(self):\n",
    "            # get parameters of all layers and stretch them out into one list\n",
    "            return [p for layer in self.layers for p in layer.parameters()]"
   ]
  },
  {
   "cell_type": "code",
   "execution_count": 14,
   "metadata": {},
   "outputs": [
    {
     "data": {
      "text/plain": [
       "<torch._C.Generator at 0x1c665690910>"
      ]
     },
     "execution_count": 14,
     "metadata": {},
     "output_type": "execute_result"
    }
   ],
   "source": [
    "torch.manual_seed(42)"
   ]
  },
  {
   "cell_type": "code",
   "execution_count": 37,
   "metadata": {},
   "outputs": [
    {
     "name": "stdout",
     "output_type": "stream",
     "text": [
      "11224\n"
     ]
    }
   ],
   "source": [
    "n_embd = 10 # the dimensionality of the character embedding vectors\n",
    "n_hidden = 100 # the number of neurons in the hidden layer of the MLP\n",
    "\n",
    "C = torch.randn((vocab_size, n_embd),            generator=g)\n",
    "# layers = [\n",
    "#       Embedding(vocab_size, n_embd),\n",
    "#       Flatten(),\n",
    "#   Linear(n_embd * block_size, n_hidden, bias=False), BatchNorm1d(n_hidden), Tanh(),\n",
    "#   Linear(           n_hidden, vocab_size, bias=False), BatchNorm1d(vocab_size),\n",
    "# ]\n",
    "model = Sequential([\n",
    "      Embedding(vocab_size, n_embd),\n",
    "      Flatten(),\n",
    "  Linear(n_embd * block_size, n_hidden, bias=False), BatchNorm1d(n_hidden), Tanh(),\n",
    "  Linear(           n_hidden, vocab_size, bias=False), BatchNorm1d(vocab_size),\n",
    "])\n",
    "\n",
    "# with torch.no_grad():\n",
    "      # layers[-1].gamma *= 0.1 # last layer make less confident\n",
    "\n",
    "# parameters = [p for layer in layers for p in layer.parameters()]\n",
    "parameters = model.parameters()\n",
    "print(sum(p.nelement() for p in parameters)) # number of parameters in total\n",
    "for p in parameters:\n",
    "  p.requires_grad = True"
   ]
  },
  {
   "cell_type": "code",
   "execution_count": 38,
   "metadata": {},
   "outputs": [
    {
     "name": "stdout",
     "output_type": "stream",
     "text": [
      "      0/ 200000: 3.6199\n"
     ]
    }
   ],
   "source": [
    "max_steps = 200000\n",
    "batch_size = 32\n",
    "lossi = []\n",
    "\n",
    "for i in range(max_steps):\n",
    "      \n",
    "      # minibatch construct\n",
    "      ix = torch.randint(0, Xtr.shape[0], (batch_size,))\n",
    "      Xb, Yb = Xtr[ix], Ytr[ix] # batch X,Y\n",
    "      \n",
    "      # forward pass\n",
    "      logits = model(Xb)\n",
    "      # x = Xb\n",
    "      # for layer in layers:\n",
    "      #       x = layer(x)\n",
    "      # loss = F.cross_entropy(x,Yb)\n",
    "      loss = F.cross_entropy(logits,Yb)\n",
    "\n",
    "      \n",
    "      # backward pass\n",
    "      for p in parameters:\n",
    "            p.grad = None\n",
    "      loss.backward()\n",
    "      \n",
    "      # update : simple SGD\n",
    "      lr = 0.1 if i < 100000 else 0.01\n",
    "      for p in parameters:\n",
    "            p.data += -lr * p.grad\n",
    "      \n",
    "      #track stats\n",
    "      if i%10000==0:\n",
    "            print(f'{i:7d}/{max_steps:7d}: {loss.item():.4f}')\n",
    "      lossi.append(loss.log10().item())\n",
    "      \n",
    "      break"
   ]
  },
  {
   "cell_type": "code",
   "execution_count": 39,
   "metadata": {},
   "outputs": [
    {
     "name": "stdout",
     "output_type": "stream",
     "text": [
      "train 3.6654908657073975\n",
      "val 3.6743879318237305\n"
     ]
    }
   ],
   "source": [
    "@torch.no_grad() #this decorator disables gradient tracking\n",
    "def split_loss(split):\n",
    "      x,y = {\n",
    "            'train': (Xtr, Ytr),\n",
    "            'val'  : (Xdev, Ydev),\n",
    "            'test' : (Xte, Yte),\n",
    "      }[split]\n",
    "      \n",
    "      # emb = C[x] # (N, block_size, n_embed)\n",
    "      # x = emb.view(emb.shape[0],-1)\n",
    "      # for layer in layers:\n",
    "      #       x = layer(x)\n",
    "      # loss = F.cross_entropy(x, y)\n",
    "      \n",
    "      logits = model(x)\n",
    "      loss = F.cross_entropy(logits,y)\n",
    "      \n",
    "      print(split, loss.item())\n",
    "      \n",
    "split_loss('train')\n",
    "split_loss('val')\n",
    "      "
   ]
  },
  {
   "cell_type": "code",
   "execution_count": 40,
   "metadata": {},
   "outputs": [],
   "source": [
    "# put layers into eval mode (needed for batchnorm especially)\n",
    "for layer in model.layers:\n",
    "      layer.training = False"
   ]
  },
  {
   "cell_type": "code",
   "execution_count": 41,
   "metadata": {},
   "outputs": [
    {
     "name": "stdout",
     "output_type": "stream",
     "text": [
      "osxkgblgvpr.\n",
      "ucbyfmonzzvghvbsbcdfbnl.\n",
      "lzsvswynpjmugzbygzkaljyntryshfqaqzqwxrzthiaqrrio.\n",
      "cuvobo.\n",
      "kxkaejnt.\n",
      "logvwbfpbjojyiuypmn.\n",
      "zpnufjfn.\n",
      "irwodceyendqvxtkytzokfhlcaprdgzebqndxfjxeuzzzpxezrahhhsxqqiyujdfulqwnzyf.\n",
      "ihodumsutcatgjhzbcdabwvcqpbnjjvdbqsyjtbnzhhcsdxdusbybbz.\n",
      "gxvsrmedyqeqkqztnogpooqnlpsgyytgpfcv.\n",
      "joomodtnkdjmunw.\n",
      "owz.\n",
      "fbneecpokq.\n",
      "cieciyfmdotirlivtv.\n",
      "buyvbhvtzbhkwcmhno.\n",
      "aiumshodkkdjxb.\n",
      "hgdjoxsbhnlepynqbsovkeuolnorowkgrgcvbpwbijnfbmdq.\n",
      "agcnjzt.\n",
      "ywfmluwpfysetk.\n",
      "pgnvepgfwehsbslnmobcgfncefenljzvadvyrnbezvadcd.\n"
     ]
    }
   ],
   "source": [
    "# sample from the model\n",
    "g = torch.Generator().manual_seed(2147483647 + 10)\n",
    "\n",
    "for _ in range(20):\n",
    "    \n",
    "    out = []\n",
    "    context = [0] * block_size # initialize with all ...\n",
    "    while True:\n",
    "      #forward pass the neural net\n",
    "      # emb = C[torch.tensor([context])] # (1,block_size,d)\n",
    "      # x = emb.view(emb.shape[0], -1)\n",
    "      # for layer in layers:\n",
    "      #       x = layer(x)\n",
    "      # logits = x\n",
    "      logits = model(torch.tensor([context]))\n",
    "      probs = F.softmax(logits, dim=1)\n",
    "      \n",
    "      ix = torch.multinomial(probs, num_samples=1).item()\n",
    "      context = context[1:] + [ix]\n",
    "      out.append(ix)\n",
    "      \n",
    "      if ix == 0:\n",
    "        break\n",
    "    \n",
    "    print(''.join(itos[i] for i in out))"
   ]
  },
  {
   "cell_type": "code",
   "execution_count": null,
   "metadata": {},
   "outputs": [],
   "source": []
  }
 ],
 "metadata": {
  "kernelspec": {
   "display_name": "Python 3",
   "language": "python",
   "name": "python3"
  },
  "language_info": {
   "codemirror_mode": {
    "name": "ipython",
    "version": 3
   },
   "file_extension": ".py",
   "mimetype": "text/x-python",
   "name": "python",
   "nbconvert_exporter": "python",
   "pygments_lexer": "ipython3",
   "version": "3.12.2"
  }
 },
 "nbformat": 4,
 "nbformat_minor": 2
}
