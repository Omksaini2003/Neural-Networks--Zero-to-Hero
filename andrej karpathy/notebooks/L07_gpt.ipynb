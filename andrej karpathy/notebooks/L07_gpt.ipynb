{
 "cells": [
  {
   "cell_type": "code",
   "execution_count": 1,
   "metadata": {},
   "outputs": [],
   "source": [
    "with open('input.txt', 'r', encoding='utf-8') as f:\n",
    "      text= f.read()"
   ]
  },
  {
   "cell_type": "code",
   "execution_count": 2,
   "metadata": {},
   "outputs": [
    {
     "name": "stdout",
     "output_type": "stream",
     "text": [
      "\n",
      " !$&',-.3:;?ABCDEFGHIJKLMNOPQRSTUVWXYZabcdefghijklmnopqrstuvwxyz\n",
      "65\n"
     ]
    }
   ],
   "source": [
    "chars = sorted(list(set(text)))\n",
    "vocab_size = len(chars)\n",
    "\n",
    "print(''.join(chars))\n",
    "print(vocab_size)"
   ]
  },
  {
   "cell_type": "code",
   "execution_count": 3,
   "metadata": {},
   "outputs": [
    {
     "name": "stdout",
     "output_type": "stream",
     "text": [
      "[53, 51, 1, 49, 59, 51, 39, 56]\n",
      "om kumar\n"
     ]
    }
   ],
   "source": [
    "stoi = {ch : i for i,ch in enumerate(chars)}\n",
    "itos = {i : ch for i,ch in enumerate(chars)}\n",
    "\n",
    "encode = lambda s: [stoi[c] for c in s]\n",
    "decode = lambda l: ''.join([itos[i] for i in l])\n",
    "\n",
    "print(encode(\"om kumar\"))\n",
    "print(decode(encode(\"om kumar\")))\n",
    "\n",
    "# we can use tiktoken library for its encoder and decoder which gpt uses itself, here we're keeping it simple "
   ]
  },
  {
   "cell_type": "code",
   "execution_count": 4,
   "metadata": {},
   "outputs": [
    {
     "name": "stdout",
     "output_type": "stream",
     "text": [
      "torch.Size([1115394]) torch.int64\n",
      "tensor([18, 47, 56, 57, 58,  1, 15, 47, 58, 47, 64, 43, 52, 10,  0, 14, 43, 44,\n",
      "        53, 56, 43,  1, 61, 43,  1, 54, 56, 53, 41, 43, 43, 42,  1, 39, 52, 63,\n",
      "         1, 44, 59, 56, 58, 46, 43, 56,  6,  1, 46, 43, 39, 56,  1, 51, 43,  1,\n",
      "        57, 54, 43, 39, 49,  8,  0,  0, 13, 50, 50, 10,  0, 31, 54, 43, 39, 49,\n",
      "         6,  1, 57, 54, 43, 39, 49,  8,  0,  0, 18, 47, 56, 57, 58,  1, 15, 47,\n",
      "        58, 47, 64, 43, 52, 10,  0, 37, 53, 59])\n"
     ]
    }
   ],
   "source": [
    "import torch\n",
    "data = torch.tensor(encode(text), dtype=torch.long)\n",
    "print(data.shape, data.dtype)\n",
    "print(data[:100])"
   ]
  },
  {
   "cell_type": "code",
   "execution_count": 5,
   "metadata": {},
   "outputs": [],
   "source": [
    "n = int(0.9*len(data))\n",
    "train_data = data[:n]\n",
    "val_data = data[n:]"
   ]
  },
  {
   "cell_type": "code",
   "execution_count": 6,
   "metadata": {},
   "outputs": [
    {
     "data": {
      "text/plain": [
       "(1003854, tensor([18, 47, 56, 57, 58,  1, 15, 47]))"
      ]
     },
     "execution_count": 6,
     "metadata": {},
     "output_type": "execute_result"
    }
   ],
   "source": [
    "block_size = 8\n",
    "len(train_data), train_data[:block_size]"
   ]
  },
  {
   "cell_type": "code",
   "execution_count": 7,
   "metadata": {},
   "outputs": [
    {
     "name": "stdout",
     "output_type": "stream",
     "text": [
      "input:  torch.Size([4, 8])\n",
      "tensor([[24, 43, 58,  5, 57,  1, 46, 43],\n",
      "        [44, 53, 56,  1, 58, 46, 39, 58],\n",
      "        [52, 58,  1, 58, 46, 39, 58,  1],\n",
      "        [25, 17, 27, 10,  0, 21,  1, 54]])\n",
      "targets:  torch.Size([4, 8])\n",
      "tensor([[43, 58,  5, 57,  1, 46, 43, 39],\n",
      "        [53, 56,  1, 58, 46, 39, 58,  1],\n",
      "        [58,  1, 58, 46, 39, 58,  1, 46],\n",
      "        [17, 27, 10,  0, 21,  1, 54, 39]])\n",
      "-------------\n"
     ]
    }
   ],
   "source": [
    "torch.manual_seed(1337)\n",
    "batch_size = 4\n",
    "block_size = 8\n",
    "\n",
    "def get_batch(split):\n",
    "      data = train_data if split == 'train' else val_data\n",
    "      ix = torch.randint(len(data) - block_size, (batch_size,))\n",
    "      x = torch.stack([data[i:i+block_size] for i in ix])\n",
    "      y = torch.stack([data[i+1:i+block_size+1] for i in ix])\n",
    "      return x,y\n",
    "\n",
    "xb, yb = get_batch('train')\n",
    "print('input: ',xb.shape)\n",
    "print(xb)\n",
    "print('targets: ',yb.shape)\n",
    "print(yb)\n",
    "\n",
    "print('-------------')\n",
    "\n",
    "# for b in range(batch_size):\n",
    "      # for t in range(block_size):\n",
    "            # context = xb[b, :t+1]\n",
    "            # target = yb[b,t]\n",
    "            # print(f'when input is {context.tolist()} the target is {target}')\n",
    "      "
   ]
  },
  {
   "cell_type": "code",
   "execution_count": 8,
   "metadata": {},
   "outputs": [],
   "source": [
    "import torch\n",
    "import torch.nn as nn \n",
    "from torch.nn import functional as F \n",
    "torch.manual_seed(1337)\n",
    "\n",
    "class BigramLanguageModel(nn.Module):\n",
    "      \n",
    "      def __init__(self, vocab_size):\n",
    "            super().__init__()\n",
    "            # each token directly reads off the logits for the next token from a lookup table\n",
    "            self.token_embedding_table = nn.Embedding(vocab_size, vocab_size)\n",
    "      \n",
    "      def forward(self, idx, targets=None):\n",
    "            # idx and targets are both (B,T) tensor of integers\n",
    "            logits = self.token_embedding_table(idx) # (B,T,C)\n",
    "            \n",
    "            if targets is None:\n",
    "                  loss = None\n",
    "            else:\n",
    "                  B,T,C = logits.shape\n",
    "                  logits = logits.view(B*T, C)\n",
    "                  targets = targets.view(B*T)\n",
    "                  loss = F.cross_entropy(logits, targets)\n",
    "            \n",
    "            return logits, loss\n",
    "      \n",
    "      def generate(self, idx, max_new_tokens):\n",
    "            # idx is (B,T) array of indices in the current context\n",
    "            for _ in range(max_new_tokens):\n",
    "                  # get the predictions\n",
    "                  logits,loss = self(idx)\n",
    "                  # focus only on the last time step\n",
    "                  logits = logits[:, -1,:] # becomes (B,C) # (B,T,C) ke T dim ke last C ko pick kra\n",
    "                  # apply softmax to get probabilities\n",
    "                  probs = F.softmax(logits, dim=1) # (B,C)\n",
    "                  # sample from the distribution\n",
    "                  idx_next = torch.multinomial(probs, num_samples=1) # (B,1)\n",
    "                  # append sampled index to the running sequence\n",
    "                  idx = torch.cat((idx, idx_next), dim=1) # (B,T+1)\n",
    "            return idx\n",
    "      \n",
    "      \n",
    "      \n",
    "      \n",
    "      \n",
    "      \n",
    "      \n"
   ]
  },
  {
   "cell_type": "code",
   "execution_count": 9,
   "metadata": {},
   "outputs": [
    {
     "name": "stdout",
     "output_type": "stream",
     "text": [
      "torch.Size([32, 65])\n",
      "tensor(4.8786, grad_fn=<NllLossBackward0>)\n"
     ]
    }
   ],
   "source": [
    "m = BigramLanguageModel(vocab_size)\n",
    "logits,loss = m(xb,yb)\n",
    "print(logits.shape)\n",
    "print(loss)"
   ]
  },
  {
   "cell_type": "code",
   "execution_count": 10,
   "metadata": {},
   "outputs": [
    {
     "name": "stdout",
     "output_type": "stream",
     "text": [
      "\n",
      "Sr?qP-QWktXoL&jLDJgOLVz'RIoDqHdhsV&vLLxatjscMpwLERSPyao.qfzs$Ys$zF-w,;eEkzxjgCKFChs!iWW.ObzDnxA Ms$3\n"
     ]
    }
   ],
   "source": [
    "print( decode(m.generate(idx= torch.zeros((1,1), dtype=torch.long), max_new_tokens=100)[0].tolist()))"
   ]
  },
  {
   "cell_type": "code",
   "execution_count": 11,
   "metadata": {},
   "outputs": [],
   "source": [
    "# create a pytorch optimizer\n",
    "\n",
    "optimizer = torch.optim.AdamW(m.parameters(), lr=1e-3)"
   ]
  },
  {
   "cell_type": "code",
   "execution_count": 12,
   "metadata": {},
   "outputs": [
    {
     "name": "stdout",
     "output_type": "stream",
     "text": [
      "4.704006195068359\n",
      "4.241008758544922\n",
      "3.7031264305114746\n",
      "3.4233598709106445\n",
      "3.1371781826019287\n",
      "2.9196817874908447\n",
      "2.776794672012329\n",
      "2.809856653213501\n",
      "2.5844571590423584\n",
      "2.6057393550872803\n",
      "2.5105180740356445\n",
      "2.5480153560638428\n",
      "2.531585931777954\n",
      "2.4708240032196045\n",
      "2.504757881164551\n",
      "2.400172472000122\n",
      "2.4696712493896484\n",
      "2.4209394454956055\n",
      "2.4838879108428955\n",
      "2.407996654510498\n",
      "2.4183998107910156\n"
     ]
    }
   ],
   "source": [
    "batch_size = 32\n",
    "\n",
    "for steps in range(10001):\n",
    "      xb,yb = get_batch('train')\n",
    "      \n",
    "      logits,loss = m(xb,yb)\n",
    "      optimizer.zero_grad(set_to_none=True)\n",
    "      loss.backward()\n",
    "      optimizer.step()\n",
    "      \n",
    "      if(steps%500==0):\n",
    "            print(loss.item()) "
   ]
  },
  {
   "cell_type": "code",
   "execution_count": 13,
   "metadata": {},
   "outputs": [
    {
     "name": "stdout",
     "output_type": "stream",
     "text": [
      "\n",
      "Thicomyonthar's\n",
      "Plinseard ith henoure wounonthioneir thondy, y heltieiengerofo'dsssit ey\n",
      "KIN d pe wither vouprrouthercc.\n",
      "hathe; d!\n",
      "My hind tt hinig t ouchos tes; st yo hind wotte grotonear 'so it t jod weancotha:\n",
      "h hay.JUCle n prids, r loncave w hollular s O:\n",
      "HIs; ht anjx?\n",
      "\n",
      "DUThinqunt.\n",
      "\n",
      "LaZAnde.\n",
      "athave l.\n",
      "KEONH:\n",
      "ARThanco be y,-hedarwnoddy scace, tridesar, wnl'shenous s ls, theresseys\n",
      "Plorseelaping\n"
     ]
    }
   ],
   "source": [
    "print( decode(m.generate(idx= torch.zeros((1,1), dtype=torch.long), max_new_tokens=400)[0].tolist()))"
   ]
  },
  {
   "cell_type": "code",
   "execution_count": 14,
   "metadata": {},
   "outputs": [],
   "source": [
    "#### SELF ATTENTION"
   ]
  },
  {
   "cell_type": "code",
   "execution_count": 15,
   "metadata": {},
   "outputs": [
    {
     "data": {
      "text/plain": [
       "torch.Size([4, 8, 2])"
      ]
     },
     "execution_count": 15,
     "metadata": {},
     "output_type": "execute_result"
    }
   ],
   "source": [
    "torch.manual_seed(1337)\n",
    "B,T,C = 4,8,2 # batch, time channel\n",
    "\n",
    "x = torch.randn(B,T,C)\n",
    "x.shape"
   ]
  },
  {
   "cell_type": "code",
   "execution_count": 16,
   "metadata": {},
   "outputs": [],
   "source": [
    "# we want x[b,t] = mean_{i<=t} x[b,i]\n",
    "\n",
    "xbow = torch.zeros((B,T,C)) # x bag of words\n",
    "\n",
    "for b in range(B):\n",
    "      for t in range(T):\n",
    "            xprev = x[b,:t+1] # (t,C)\n",
    "            xbow[b,t] = torch.mean(xprev,0)\n",
    "            \n",
    "# we can replicate above process using matrix multiplication as done below, u should see explanation sir gave\n",
    "\n",
    "# better way to do above operation\n",
    "\n",
    "wei = torch.tril(torch.ones(T,T))\n",
    "wei = wei / wei.sum(1,keepdim=True)\n",
    "\n",
    "xbow2 = wei @ x # (T,T)@(B,T,C) ---> (B,T,T)@(B,T,C) ----> (B,T,C)\n",
    "       "
   ]
  },
  {
   "cell_type": "code",
   "execution_count": 17,
   "metadata": {},
   "outputs": [],
   "source": [
    "#another way of doing above trick\n",
    "\n",
    "tril = torch.tril(torch.ones(T,T))\n",
    "wei = torch.zeros((T,T)) # we dont want uniform initialisation, so to learn from the past, we introduce key and query\n",
    "wei = wei.masked_fill(tril == 0, float('-inf'))\n",
    "wei = F.softmax(wei, dim =-1)\n",
    "xbow3 = wei @ x"
   ]
  },
  {
   "cell_type": "code",
   "execution_count": 18,
   "metadata": {},
   "outputs": [],
   "source": [
    "n_embd = 32"
   ]
  },
  {
   "cell_type": "code",
   "execution_count": 24,
   "metadata": {},
   "outputs": [],
   "source": [
    "import torch\n",
    "import torch.nn as nn \n",
    "from torch.nn import functional as F \n",
    "torch.manual_seed(1337)\n",
    "\n",
    "class Head(nn.Module):\n",
    "      \"\"\" one head of self attention \"\"\"\n",
    "      \n",
    "      def __init__(self, head_size):\n",
    "            super().__init__()\n",
    "            self.key = nn.Linear(n_embd, head_size, bias= False)\n",
    "            self.query = nn.Linear(n_embd, head_size, bias=False)\n",
    "            self.value = nn.Linear(n_embd, head_size, bias=False)\n",
    "            self.register_buffer('tril',torch.tril(torch.ones(block_size,block_size)))\n",
    "      \n",
    "      def forward(self, x):\n",
    "            B,T,C = x.shape\n",
    "            k = self.key(x)\n",
    "            q = self.key(x)\n",
    "            # compute attention scores (\"affinities\")\n",
    "            wei = q @ k.transpose(-2,-1) * C**-0.5 # (B,T,16) @ (B,16,T) --> (B,T,T)\n",
    "            wei = wei.masked_fill(self.tril[:T,:T]==0, float('-inf')) #(B,T,T)\n",
    "            wei = F.softmax(wei, dim=-1) # (B,T,T)\n",
    "            # perform the weighed aggregation of the values\n",
    "            v = self.value(x)\n",
    "            out = wei @ v # (B,T,T) @ (B,T,C) --> (B,T,C)\n",
    "            \n",
    "            return out\n",
    "      \n",
    "\n",
    "class MultiHeadAttention(nn.Module):\n",
    "      \"\"\" multiple heads of self attention in parallel \"\"\"\n",
    "      \n",
    "      def __init__(self, num_heads, head_size):\n",
    "            super().__init__()\n",
    "            self.heads = nn.ModuleList((Head(head_size) for _ in range(num_heads)))\n",
    "            self.proj = nn.Linear(n_embd, n_embd)\n",
    "      \n",
    "      def forward(self, x):\n",
    "            out = torch.cat([h(x) for h in self.heads], dim=-1)\n",
    "            out = self.proj(out)\n",
    "            return out\n",
    "\n",
    "class FeedForward(nn.Module):\n",
    "      \"\"\" a simple linear layer followed by a non linearity \"\"\"\n",
    "      \n",
    "      def __init__(self, n_embd):\n",
    "            super().__init__()\n",
    "            self.net = nn.Sequential(\n",
    "                  nn.Linear(n_embd, 4*n_embd),\n",
    "                  nn.ReLU(),\n",
    "                  nn.Linear(4*n_embd, n_embd),\n",
    "            )\n",
    "      \n",
    "      def forward(self,x):\n",
    "            return self.net(x)\n",
    "\n",
    "\n",
    "class Block(nn.Module):\n",
    "      \"\"\" Transformer block: communication followed by computation \"\"\"\n",
    "      \n",
    "      def __init__(self, n_embd, n_head):\n",
    "            # n_embd: embedding dimension, n_head: the number of heads we'd like\n",
    "            super().__init__()\n",
    "            head_size = n_embd // n_head\n",
    "            self.sa = MultiHeadAttention(n_head, head_size)\n",
    "            self.ffwd = FeedForward(n_embd)\n",
    "            self.ln1 = nn.LayerNorm(n_embd)\n",
    "            self.ln2 = nn.LayerNorm(n_embd)\n",
    "            \n",
    "      \n",
    "      def forward(self,x):\n",
    "            x = x+ self.sa(self.ln1(x))\n",
    "            x = x+ self.ffwd(self.ln2(x))\n",
    "            return x\n",
    "\n",
    "\n",
    "\n",
    "\n",
    "class BigramLanguageModel(nn.Module):\n",
    "      \n",
    "      def __init__(self):\n",
    "            super().__init__()\n",
    "            # each token directly reads off the logits for the next token from a lookup table\n",
    "            self.token_embedding_table = nn.Embedding(vocab_size, n_embd)\n",
    "            self.position_embedding_table = nn.Embedding(block_size, n_embd)\n",
    "            # self.sa_head = Head(n_embd)\n",
    "            # self.sa_heads = MultiHeadAttention(4, n_embd//4) # i.e. 4 heads of 8 dimensional self attention\n",
    "            # self.ffwd = FeedForward(n_embd)\n",
    "            self.blocks = nn.Sequential(\n",
    "                  Block(n_embd, n_head=4),\n",
    "                  Block(n_embd, n_head=4),\n",
    "                  Block(n_embd, n_head=4),\n",
    "                  nn.LayerNorm(n_embd),\n",
    "            )\n",
    "            self.lm_head = nn.Linear(n_embd, vocab_size) \n",
    "            \n",
    "            \n",
    "      def forward(self, idx, targets=None):\n",
    "            B,T = idx.shape\n",
    "            \n",
    "            # idx and targets are both (B,T) tensor of integers\n",
    "            tok_emb = self.token_embedding_table(idx) # (B,T,n_embd)\n",
    "            pos_emb = self.position_embedding_table(torch.arange(T)) # (T,C)\n",
    "            x = tok_emb + pos_emb\n",
    "            # x = self.sa_heads(x)\n",
    "            # x = self.ffwd(x) # (B,T,C)\n",
    "            x = self.blocks(x)\n",
    "            logits = self.lm_head(x) # (B,T,vocab_size)\n",
    "            \n",
    "            if targets is None:\n",
    "                  loss = None\n",
    "            else:\n",
    "                  B,T,C = logits.shape\n",
    "                  logits = logits.view(B*T, C)\n",
    "                  targets = targets.view(B*T)\n",
    "                  loss = F.cross_entropy(logits, targets)\n",
    "            \n",
    "            return logits, loss\n",
    "      \n",
    "      def generate(self, idx, max_new_tokens):\n",
    "            # idx is (B,T) array of indices in the current context\n",
    "            for _ in range(max_new_tokens):\n",
    "                  # crop idx to the last block_size tokens\n",
    "                  idx_cond = idx[:, -block_size: ]\n",
    "                  # get the predictions\n",
    "                  logits,loss = self(idx_cond)\n",
    "                  # focus only on the last time step\n",
    "                  logits = logits[:, -1,:] # becomes (B,C) # (B,T,C) ke T dim ke last C ko pick kra\n",
    "                  # apply softmax to get probabilities\n",
    "                  probs = F.softmax(logits, dim=1) # (B,C)\n",
    "                  # sample from the distribution\n",
    "                  idx_next = torch.multinomial(probs, num_samples=1) # (B,1)\n",
    "                  # append sampled index to the running sequence\n",
    "                  idx = torch.cat((idx, idx_next), dim=1) # (B,T+1)\n",
    "            return idx\n",
    "      \n",
    "      \n",
    "      \n",
    "      \n",
    "      \n"
   ]
  },
  {
   "cell_type": "code",
   "execution_count": 20,
   "metadata": {},
   "outputs": [],
   "source": [
    "# query vector = what am i looking for\n",
    "# key vector = what do i contain\n"
   ]
  },
  {
   "cell_type": "code",
   "execution_count": 21,
   "metadata": {},
   "outputs": [
    {
     "data": {
      "text/plain": [
       "torch.Size([4, 8, 16])"
      ]
     },
     "execution_count": 21,
     "metadata": {},
     "output_type": "execute_result"
    }
   ],
   "source": [
    "torch.manual_seed(1337)\n",
    "B,T,C = 4,8,32\n",
    "x = torch.randn(B,T,C)\n",
    "\n",
    "head_size = 16\n",
    "key = nn.Linear(C,head_size, bias= False)\n",
    "query = nn.Linear(C,head_size, bias=False)\n",
    "value = nn.Linear(C, head_size, bias= False)\n",
    "k = key(x)    #(B,T,16)\n",
    "q = query(x)  #(B,T,16)\n",
    "wei = q @ k.transpose(-2,-1) * (head_size**-0.5)# (B,T,16) @ (B,16,T) --> (B,T,T)\n",
    "\n",
    "tril = torch.tril(torch.ones(T,T))\n",
    "# wei = torch.zeros((T,T))\n",
    "wei.masked_fill(tril==0, float('-inf'))\n",
    "wei = F.softmax(wei,dim=-1)\n",
    "\n",
    "v= value(x)\n",
    "out = wei @ v\n",
    "# out = wei @ x\n",
    "\n",
    "out.shape"
   ]
  },
  {
   "cell_type": "code",
   "execution_count": null,
   "metadata": {},
   "outputs": [],
   "source": []
  }
 ],
 "metadata": {
  "kernelspec": {
   "display_name": "Python 3",
   "language": "python",
   "name": "python3"
  },
  "language_info": {
   "codemirror_mode": {
    "name": "ipython",
    "version": 3
   },
   "file_extension": ".py",
   "mimetype": "text/x-python",
   "name": "python",
   "nbconvert_exporter": "python",
   "pygments_lexer": "ipython3",
   "version": "3.12.2"
  }
 },
 "nbformat": 4,
 "nbformat_minor": 2
}
