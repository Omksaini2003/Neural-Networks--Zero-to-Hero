{
 "cells": [
  {
   "cell_type": "code",
   "execution_count": 1,
   "metadata": {},
   "outputs": [
    {
     "data": {
      "text/plain": [
       "97"
      ]
     },
     "execution_count": 1,
     "metadata": {},
     "output_type": "execute_result"
    }
   ],
   "source": [
    "ord('a')"
   ]
  },
  {
   "cell_type": "code",
   "execution_count": 2,
   "metadata": {},
   "outputs": [
    {
     "data": {
      "text/plain": [
       "([111, 109, 32, 107, 117, 109, 97, 114],\n",
       " [255, 254, 111, 0, 109, 0, 32, 0, 107, 0, 117, 0, 109, 0, 97, 0, 114, 0],\n",
       " [255,\n",
       "  254,\n",
       "  0,\n",
       "  0,\n",
       "  111,\n",
       "  0,\n",
       "  0,\n",
       "  0,\n",
       "  109,\n",
       "  0,\n",
       "  0,\n",
       "  0,\n",
       "  32,\n",
       "  0,\n",
       "  0,\n",
       "  0,\n",
       "  107,\n",
       "  0,\n",
       "  0,\n",
       "  0,\n",
       "  117,\n",
       "  0,\n",
       "  0,\n",
       "  0,\n",
       "  109,\n",
       "  0,\n",
       "  0,\n",
       "  0,\n",
       "  97,\n",
       "  0,\n",
       "  0,\n",
       "  0,\n",
       "  114,\n",
       "  0,\n",
       "  0,\n",
       "  0])"
      ]
     },
     "execution_count": 2,
     "metadata": {},
     "output_type": "execute_result"
    }
   ],
   "source": [
    "list(\"om kumar\".encode(\"utf-8\")), list(\"om kumar\".encode(\"utf-16\")), list(\"om kumar\".encode(\"utf-32\"))"
   ]
  },
  {
   "cell_type": "code",
   "execution_count": 3,
   "metadata": {},
   "outputs": [],
   "source": [
    "text = \"~!@#$%^&*() Thicomyonthar's Plinseard ith henoure wounonthioneir thondy, y heltieiengerofo'dsssit ey KIN d pe wither vouprrouthercc. hathe; d! My hind tt hinig t ouchos tes; st yo hind wotte grotonear 'so it t jod weancotha: h hay.JUCle n prids, r loncave w hollular s O: HIs; ht anjx?\""
   ]
  },
  {
   "cell_type": "code",
   "execution_count": 4,
   "metadata": {},
   "outputs": [
    {
     "name": "stdout",
     "output_type": "stream",
     "text": [
      "~!@#$%^&*() Thicomyonthar's Plinseard ith henoure wounonthioneir thondy, y heltieiengerofo'dsssit ey KIN d pe wither vouprrouthercc. hathe; d! My hind tt hinig t ouchos tes; st yo hind wotte grotonear 'so it t jod weancotha: h hay.JUCle n prids, r loncave w hollular s O: HIs; ht anjx?\n",
      "285\n",
      "----------\n",
      "[126, 33, 64, 35, 36, 37, 94, 38, 42, 40, 41, 32, 84, 104, 105, 99, 111, 109, 121, 111, 110, 116, 104, 97, 114, 39, 115, 32, 80, 108, 105, 110, 115, 101, 97, 114, 100, 32, 105, 116, 104, 32, 104, 101, 110, 111, 117, 114, 101, 32, 119, 111, 117, 110, 111, 110, 116, 104, 105, 111, 110, 101, 105, 114, 32, 116, 104, 111, 110, 100, 121, 44, 32, 121, 32, 104, 101, 108, 116, 105, 101, 105, 101, 110, 103, 101, 114, 111, 102, 111, 39, 100, 115, 115, 115, 105, 116, 32, 101, 121, 32, 75, 73, 78, 32, 100, 32, 112, 101, 32, 119, 105, 116, 104, 101, 114, 32, 118, 111, 117, 112, 114, 114, 111, 117, 116, 104, 101, 114, 99, 99, 46, 32, 104, 97, 116, 104, 101, 59, 32, 100, 33, 32, 77, 121, 32, 104, 105, 110, 100, 32, 116, 116, 32, 104, 105, 110, 105, 103, 32, 116, 32, 111, 117, 99, 104, 111, 115, 32, 116, 101, 115, 59, 32, 115, 116, 32, 121, 111, 32, 104, 105, 110, 100, 32, 119, 111, 116, 116, 101, 32, 103, 114, 111, 116, 111, 110, 101, 97, 114, 32, 39, 115, 111, 32, 105, 116, 32, 116, 32, 106, 111, 100, 32, 119, 101, 97, 110, 99, 111, 116, 104, 97, 58, 32, 104, 32, 104, 97, 121, 46, 74, 85, 67, 108, 101, 32, 110, 32, 112, 114, 105, 100, 115, 44, 32, 114, 32, 108, 111, 110, 99, 97, 118, 101, 32, 119, 32, 104, 111, 108, 108, 117, 108, 97, 114, 32, 115, 32, 79, 58, 32, 72, 73, 115, 59, 32, 104, 116, 32, 97, 110, 106, 120, 63]\n",
      "285\n"
     ]
    }
   ],
   "source": [
    "tokens = text.encode(\"utf-8\")\n",
    "tokens = list(map(int, tokens)) # in range 0...255\n",
    "\n",
    "print(text)\n",
    "print(len(text))\n",
    "print(\"----------\")\n",
    "print(tokens)\n",
    "print(len(tokens))"
   ]
  },
  {
   "cell_type": "code",
   "execution_count": 5,
   "metadata": {},
   "outputs": [],
   "source": [
    "def get_stats(ids):\n",
    "      counts = {}\n",
    "      for pair in zip(ids, ids[1:]):\n",
    "            counts[pair] = counts.get(pair,0) +1\n",
    "      return counts"
   ]
  },
  {
   "cell_type": "code",
   "execution_count": 6,
   "metadata": {},
   "outputs": [
    {
     "name": "stdout",
     "output_type": "stream",
     "text": [
      "[(10, (32, 104)), (8, (116, 104)), (7, (116, 32)), (6, (111, 110)), (5, (114, 32)), (5, (111, 117)), (5, (104, 105)), (5, (104, 101)), (5, (101, 32)), (5, (100, 32)), (5, (32, 119)), (5, (32, 116)), (4, (105, 116)), (4, (105, 110)), (4, (104, 97)), (4, (97, 114)), (3, (121, 32)), (3, (115, 32)), (3, (114, 111)), (3, (111, 116)), (3, (110, 100)), (3, (104, 111)), (3, (101, 114)), (3, (101, 97)), (3, (59, 32)), (2, (121, 111)), (2, (119, 111)), (2, (116, 116)), (2, (116, 101)), (2, (115, 115)), (2, (115, 59)), (2, (112, 114)), (2, (111, 32)), (2, (110, 116)), (2, (110, 111)), (2, (110, 101)), (2, (110, 99)), (2, (105, 101)), (2, (104, 32)), (2, (101, 110)), (2, (101, 105)), (2, (100, 115)), (2, (99, 111)), (2, (97, 110)), (2, (58, 32)), (2, (44, 32)), (2, (39, 115)), (2, (32, 121)), (2, (32, 115)), (2, (32, 112)), (2, (32, 105)), (2, (32, 100)), (1, (126, 33)), (1, (121, 46)), (1, (121, 44)), (1, (120, 63)), (1, (119, 105)), (1, (119, 101)), (1, (119, 32)), (1, (118, 111)), (1, (118, 101)), (1, (117, 116)), (1, (117, 114)), (1, (117, 112)), (1, (117, 110)), (1, (117, 108)), (1, (117, 99)), (1, (116, 111)), (1, (116, 105)), (1, (115, 116)), (1, (115, 111)), (1, (115, 105)), (1, (115, 101)), (1, (115, 44)), (1, (114, 114)), (1, (114, 105)), (1, (114, 101)), (1, (114, 100)), (1, (114, 99)), (1, (114, 39)), (1, (112, 101)), (1, (111, 115)), (1, (111, 109)), (1, (111, 108)), (1, (111, 102)), (1, (111, 100)), (1, (111, 39)), (1, (110, 115)), (1, (110, 106)), (1, (110, 105)), (1, (110, 103)), (1, (110, 32)), (1, (109, 121)), (1, (108, 117)), (1, (108, 116)), (1, (108, 111)), (1, (108, 108)), (1, (108, 105)), (1, (108, 101)), (1, (108, 97)), (1, (106, 120)), (1, (106, 111)), (1, (105, 114)), (1, (105, 111)), (1, (105, 103)), (1, (105, 100)), (1, (105, 99)), (1, (104, 116)), (1, (103, 114)), (1, (103, 101)), (1, (103, 32)), (1, (102, 111)), (1, (101, 121)), (1, (101, 115)), (1, (101, 108)), (1, (101, 59)), (1, (100, 121)), (1, (100, 33)), (1, (99, 104)), (1, (99, 99)), (1, (99, 97)), (1, (99, 46)), (1, (97, 121)), (1, (97, 118)), (1, (97, 116)), (1, (97, 58)), (1, (94, 38)), (1, (85, 67)), (1, (84, 104)), (1, (80, 108)), (1, (79, 58)), (1, (78, 32)), (1, (77, 121)), (1, (75, 73)), (1, (74, 85)), (1, (73, 115)), (1, (73, 78)), (1, (72, 73)), (1, (67, 108)), (1, (64, 35)), (1, (46, 74)), (1, (46, 32)), (1, (42, 40)), (1, (41, 32)), (1, (40, 41)), (1, (39, 100)), (1, (38, 42)), (1, (37, 94)), (1, (36, 37)), (1, (35, 36)), (1, (33, 64)), (1, (33, 32)), (1, (32, 118)), (1, (32, 114)), (1, (32, 111)), (1, (32, 110)), (1, (32, 108)), (1, (32, 106)), (1, (32, 103)), (1, (32, 101)), (1, (32, 97)), (1, (32, 84)), (1, (32, 80)), (1, (32, 79)), (1, (32, 77)), (1, (32, 75)), (1, (32, 72)), (1, (32, 39))]\n"
     ]
    }
   ],
   "source": [
    "stats = get_stats(tokens)\n",
    "# print(stats)\n",
    "print(sorted(((v,k) for k,v in stats.items()), reverse=True))"
   ]
  },
  {
   "cell_type": "code",
   "execution_count": 9,
   "metadata": {},
   "outputs": [
    {
     "data": {
      "text/plain": [
       "(' ', 'h')"
      ]
     },
     "execution_count": 9,
     "metadata": {},
     "output_type": "execute_result"
    }
   ],
   "source": [
    "chr(32), chr(104)"
   ]
  },
  {
   "cell_type": "code",
   "execution_count": 11,
   "metadata": {},
   "outputs": [
    {
     "data": {
      "text/plain": [
       "(32, 104)"
      ]
     },
     "execution_count": 11,
     "metadata": {},
     "output_type": "execute_result"
    }
   ],
   "source": [
    "top_pair = max(stats, key = stats.get)\n",
    "top_pair"
   ]
  },
  {
   "cell_type": "code",
   "execution_count": 12,
   "metadata": {},
   "outputs": [],
   "source": [
    "def merge(ids, pair, idx):\n",
    "      newids = []\n",
    "      i = 0\n",
    "      while i<len(ids):\n",
    "            if i< len(ids)-1 and ids[i]==pair[0] and ids[i+1]==pair[1]:\n",
    "                  newids.append(idx)\n",
    "                  i+=2\n",
    "            else:\n",
    "                  newids.append(ids[i])\n",
    "                  i+=1\n",
    "      return newids"
   ]
  },
  {
   "cell_type": "code",
   "execution_count": 14,
   "metadata": {},
   "outputs": [
    {
     "name": "stdout",
     "output_type": "stream",
     "text": [
      "[126, 33, 64, 35, 36, 37, 94, 38, 42, 40, 41, 32, 84, 104, 105, 99, 111, 109, 121, 111, 110, 116, 104, 97, 114, 39, 115, 32, 80, 108, 105, 110, 115, 101, 97, 114, 100, 32, 105, 116, 104, 256, 101, 110, 111, 117, 114, 101, 32, 119, 111, 117, 110, 111, 110, 116, 104, 105, 111, 110, 101, 105, 114, 32, 116, 104, 111, 110, 100, 121, 44, 32, 121, 256, 101, 108, 116, 105, 101, 105, 101, 110, 103, 101, 114, 111, 102, 111, 39, 100, 115, 115, 115, 105, 116, 32, 101, 121, 32, 75, 73, 78, 32, 100, 32, 112, 101, 32, 119, 105, 116, 104, 101, 114, 32, 118, 111, 117, 112, 114, 114, 111, 117, 116, 104, 101, 114, 99, 99, 46, 256, 97, 116, 104, 101, 59, 32, 100, 33, 32, 77, 121, 256, 105, 110, 100, 32, 116, 116, 256, 105, 110, 105, 103, 32, 116, 32, 111, 117, 99, 104, 111, 115, 32, 116, 101, 115, 59, 32, 115, 116, 32, 121, 111, 256, 105, 110, 100, 32, 119, 111, 116, 116, 101, 32, 103, 114, 111, 116, 111, 110, 101, 97, 114, 32, 39, 115, 111, 32, 105, 116, 32, 116, 32, 106, 111, 100, 32, 119, 101, 97, 110, 99, 111, 116, 104, 97, 58, 256, 256, 97, 121, 46, 74, 85, 67, 108, 101, 32, 110, 32, 112, 114, 105, 100, 115, 44, 32, 114, 32, 108, 111, 110, 99, 97, 118, 101, 32, 119, 256, 111, 108, 108, 117, 108, 97, 114, 32, 115, 32, 79, 58, 32, 72, 73, 115, 59, 256, 116, 32, 97, 110, 106, 120, 63]\n",
      "length:  275\n"
     ]
    }
   ],
   "source": [
    "tokens2 = merge(tokens, top_pair, 256)\n",
    "print(tokens2)\n",
    "print(\"length: \", len(tokens2))"
   ]
  },
  {
   "cell_type": "code",
   "execution_count": 18,
   "metadata": {},
   "outputs": [
    {
     "name": "stdout",
     "output_type": "stream",
     "text": [
      "merging (32, 104) into a new token 256\n",
      "merging (116, 104) into a new token 257\n",
      "merging (111, 110) into a new token 258\n",
      "merging (116, 32) into a new token 259\n",
      "merging (100, 32) into a new token 260\n",
      "merging (111, 117) into a new token 261\n",
      "merging (101, 32) into a new token 262\n",
      "merging (114, 32) into a new token 263\n",
      "merging (105, 110) into a new token 264\n",
      "merging (115, 32) into a new token 265\n",
      "merging (101, 97) into a new token 266\n",
      "merging (262, 119) into a new token 267\n",
      "merging (257, 101) into a new token 268\n",
      "merging (256, 264) into a new token 269\n",
      "merging (99, 111) into a new token 270\n",
      "merging (258, 257) into a new token 271\n",
      "merging (256, 101) into a new token 272\n",
      "merging (101, 105) into a new token 273\n",
      "merging (44, 32) into a new token 274\n",
      "merging (114, 111) into a new token 275\n",
      "length changed from 285 to 204\n",
      "compression ration:  1.40\n"
     ]
    }
   ],
   "source": [
    "def get_stats(ids):\n",
    "      counts = {}\n",
    "      for pair in zip(ids, ids[1:]):\n",
    "            counts[pair] = counts.get(pair,0) +1\n",
    "      return counts\n",
    "\n",
    "def merge(ids, pair, idx):\n",
    "      newids = []\n",
    "      i = 0\n",
    "      while i<len(ids):\n",
    "            if i< len(ids)-1 and ids[i]==pair[0] and ids[i+1]==pair[1]:\n",
    "                  newids.append(idx)\n",
    "                  i+=2\n",
    "            else:\n",
    "                  newids.append(ids[i])\n",
    "                  i+=1\n",
    "      return newids\n",
    "\n",
    "#---\n",
    "\n",
    "vocab_size = 276 # desired final vocabulary size\n",
    "num_merges = vocab_size -256\n",
    "ids = list(tokens) # copy so we dont destroy the original list\n",
    "\n",
    "merges = {} #(int,int) --> int\n",
    "\n",
    "for i in range(num_merges):\n",
    "      stats = get_stats(ids)\n",
    "      pair = max(stats, key= stats.get)\n",
    "      idx = 256 + i\n",
    "      print(f\"merging {pair} into a new token {idx}\")\n",
    "      ids = merge(ids, pair, idx)\n",
    "      merges[pair] = idx\n",
    "\n",
    "print(f\"length changed from {len(tokens)} to {len(ids)}\")\n",
    "print(f\"compression ration: {len(tokens)/len(ids): .2f}\")"
   ]
  },
  {
   "cell_type": "markdown",
   "metadata": {},
   "source": [
    "the tokeniser is a completely separate, independent module from the LLM. It has its own training dataset of text (which could be different from that of the LLM), on which you train the vocabulary using the Byte Pair Encoding (BPE) algorithm. It then translates back and forth between raw text and sequences of tokens. The LLM later only ever sees the tokens and never directly deals with any text."
   ]
  },
  {
   "cell_type": "code",
   "execution_count": 24,
   "metadata": {},
   "outputs": [],
   "source": [
    "# decoding\n",
    "\n",
    "vocab = {idx: bytes([idx]) for idx in range(256)}\n",
    "for (p0,p1),idx in merges.items():\n",
    "      vocab[idx] = vocab[p0]+vocab[p1]\n",
    "\n",
    "def decodeThis(ids):\n",
    "      tokens = b\"\".join(vocab[idx] for idc in ids)\n",
    "      text = tokens.decode(\"utf-8\")\n",
    "      return text"
   ]
  },
  {
   "cell_type": "code",
   "execution_count": 26,
   "metadata": {},
   "outputs": [
    {
     "name": "stdout",
     "output_type": "stream",
     "text": [
      "rorororororororororororororororororororororororororororororororororororororororororororororororororororororororororororororororororororororororororororororororororororororororororororororororororororororororororororororororororororororororororororororororororororororororororororororororororororororororororororororororororororororororororororororororororororororororororororororororororororororororororororo\n"
     ]
    }
   ],
   "source": [
    "print(decodeThis(ids))"
   ]
  },
  {
   "cell_type": "code",
   "execution_count": null,
   "metadata": {},
   "outputs": [],
   "source": []
  }
 ],
 "metadata": {
  "kernelspec": {
   "display_name": "Python 3",
   "language": "python",
   "name": "python3"
  },
  "language_info": {
   "codemirror_mode": {
    "name": "ipython",
    "version": 3
   },
   "file_extension": ".py",
   "mimetype": "text/x-python",
   "name": "python",
   "nbconvert_exporter": "python",
   "pygments_lexer": "ipython3",
   "version": "3.12.2"
  }
 },
 "nbformat": 4,
 "nbformat_minor": 2
}
