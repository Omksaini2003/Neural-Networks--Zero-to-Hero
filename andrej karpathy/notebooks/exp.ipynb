{
 "cells": [
  {
   "cell_type": "code",
   "execution_count": 346,
   "metadata": {},
   "outputs": [],
   "source": [
    "# CLASS\n",
    "\n",
    "from datetime import datetime\n",
    "\n",
    "def convert_to_24_hour_format(time_str):\n",
    "    cleaned_time_str = time_str.strip().replace('\\u202f', '')    \n",
    "    time_obj = datetime.strptime(cleaned_time_str, '%I:%M%p')    \n",
    "    return time_obj.strftime('%H:%M')\n",
    "\n",
    "class msg():\n",
    "      def __init__(self,txt):\n",
    "            rem = txt.split(',', 1)\n",
    "            self.date = datetime.strptime(rem[0], '%m/%d/%y')\n",
    "\n",
    "            rem = rem[1].split('-',1)\n",
    "            self.time = convert_to_24_hour_format(rem[0])\n",
    "            \n",
    "            rem = rem[1].split(':',1)\n",
    "            if(len(rem) >=2):\n",
    "                  self.sender= rem[0]\n",
    "                  self.message= rem[1]\n",
    "            elif(len(rem)==1):\n",
    "                  self.sender = None\n",
    "                  self.message = rem[0]\n",
    "      def add_to_message(self, str):\n",
    "            self.message += '\\n'+str"
   ]
  },
  {
   "cell_type": "code",
   "execution_count": 347,
   "metadata": {},
   "outputs": [],
   "source": [
    "#     VISUALISATION UTILITITES\n",
    "\n",
    "import matplotlib.pyplot as plt\n",
    "import pandas as pd\n",
    "from collections import Counter\n",
    "\n",
    "def time_graph(time_data,label='Hourly Frequency of Occurrences'):\n",
    "      # Convert the time strings to pandas datetime objects\n",
    "      time_data = pd.to_datetime(time_data, format='%H:%M')\n",
    "      \n",
    "      # Extract hours from the time data\n",
    "      hours = time_data.hour\n",
    "      \n",
    "      # Count frequency of each hour\n",
    "      frequency = Counter(hours)\n",
    "      \n",
    "      # Separate the hours and their frequencies for plotting\n",
    "      hours = list(frequency.keys())\n",
    "      counts = list(frequency.values())\n",
    "      \n",
    "      # Plotting the frequency of each hour\n",
    "      plt.figure(figsize=(5, 5))\n",
    "      plt.bar(hours, counts, color='skyblue')\n",
    "      plt.xlabel('Hour of Day')\n",
    "      plt.ylabel('Frequency')\n",
    "      plt.title(label)\n",
    "      \n",
    "      # Setting the x-axis to display each hour of the day\n",
    "      plt.xticks(range(24), [f'{hour:02d}:00' for hour in range(24)], rotation=45, ha='right')\n",
    "      plt.grid(axis='y')\n",
    "      \n",
    "      # Show the plot\n",
    "      plt.tight_layout()  # Adjust layout to ensure everything fits without overlap\n",
    "      plt.show()\n",
    "\n",
    "def monthly_graph(date,label='Monthly Frequency of Occurrences'):\n",
    "      \n",
    "      # Convert the date strings to pandas datetime objects\n",
    "      dates = pd.to_datetime(date, format='%d/%m/%Y')\n",
    "      \n",
    "      # Extract months from the date data\n",
    "      months = dates.month\n",
    "      \n",
    "      # Count frequency of each month\n",
    "      frequency = Counter(months)\n",
    "      \n",
    "      # Months names for labeling\n",
    "      month_names = ['January', 'February', 'March', 'April', 'May', 'June', \n",
    "                     'July', 'August', 'September', 'October', 'November', 'December']\n",
    "      \n",
    "      # Create a list of frequencies corresponding to each month (1 to 12)\n",
    "      month_frequencies = [frequency.get(month, 0) for month in range(1, 13)]\n",
    "      \n",
    "      # Plotting the frequency of each month\n",
    "      plt.figure(figsize=(5, 5))\n",
    "      plt.bar(range(1, 13), month_frequencies, color='skyblue')\n",
    "      plt.xlabel('Month')\n",
    "      plt.ylabel('Frequency')\n",
    "      plt.title(label)\n",
    "      \n",
    "      # Setting the x-axis to display each month\n",
    "      plt.xticks(range(1, 13), month_names, rotation=45, ha='right')\n",
    "      plt.grid(axis='y')\n",
    "      \n",
    "      # Show the plot\n",
    "      plt.tight_layout()  # Adjust layout to ensure everything fits without overlap\n",
    "      plt.show()\n",
    "\n",
    "\n",
    "def activity_graph(data,type,label):\n",
    "      if type == 'time':\n",
    "            time_data = []\n",
    "            for i in range(len(data)):\n",
    "                  time_data.append(data[i].time)\n",
    "\n",
    "            time_graph(time_data,label)\n",
    "      elif type == 'monthly':\n",
    "            date_data = []\n",
    "            for i in range(len(data)):\n",
    "                  date_data.append(data[i].date)\n",
    "            monthly_graph(date_data,label)"
   ]
  },
  {
   "cell_type": "code",
   "execution_count": 430,
   "metadata": {},
   "outputs": [],
   "source": [
    "# DATA RETRIEVAL UTILITIES\n",
    "\n",
    "def omanusladut(messages,year):\n",
    "      om,anus,ladu = [],[],[]\n",
    "      total = []\n",
    "      \n",
    "      for i in range(len(messages)):\n",
    "            try:\n",
    "                  a = messages[i]\n",
    "                  if a.date.year in year:\n",
    "                        sender = a.sender\n",
    "                        if sender == ' ~Om' :\n",
    "                              om.append(a)\n",
    "                        elif sender == ' Shawni Prsnl' :\n",
    "                              ladu.append(a)\n",
    "                        elif sender == ' Anushka Bharti':\n",
    "                              anus.append(a)\n",
    "                        total.append(a)\n",
    "            except:\n",
    "                  print(i)\n",
    "                  break\n",
    "      return om,anus,ladu,total\n",
    "            "
   ]
  },
  {
   "cell_type": "code",
   "execution_count": null,
   "metadata": {},
   "outputs": [],
   "source": [
    "#############################################"
   ]
  },
  {
   "cell_type": "code",
   "execution_count": 349,
   "metadata": {},
   "outputs": [],
   "source": [
    "# importing txt file\n",
    "\n",
    "with open('chats.txt', 'r', encoding='utf-8') as f:\n",
    "      text= f.read()"
   ]
  },
  {
   "cell_type": "code",
   "execution_count": 350,
   "metadata": {},
   "outputs": [],
   "source": [
    "# creating a list of msg object using imported data\n",
    "\n",
    "msgs = text.split('\\n')\n",
    "messages = []\n",
    "\n",
    "for i in range(len(msgs)):\n",
    "      try:\n",
    "            if(len(msgs[i])!=0):\n",
    "                  messages.append(msg(msgs[i]))\n",
    "      except:\n",
    "            messages[-1].add_to_message(msgs[i])\n",
    "            # break"
   ]
  },
  {
   "cell_type": "code",
   "execution_count": 454,
   "metadata": {},
   "outputs": [
    {
     "name": "stdout",
     "output_type": "stream",
     "text": [
      "18875 14781 10862 44543\n",
      "11119 8018 7679 26832\n"
     ]
    }
   ],
   "source": [
    "# sender wise data of all time\n",
    "\n",
    "om,anus,ladu,total = omanusladut(messages, [2022,2023,2024])\n",
    "om23,anus23,ladu23,total23 = omanusladut(messages,[2023])\n",
    "\n",
    "print(len(anus),len(om),len(ladu),len(total))\n",
    "print(len(anus23),len(om23),len(ladu23),len(total23))"
   ]
  },
  {
   "cell_type": "code",
   "execution_count": 370,
   "metadata": {},
   "outputs": [],
   "source": []
  },
  {
   "cell_type": "code",
   "execution_count": 385,
   "metadata": {},
   "outputs": [],
   "source": []
  },
  {
   "cell_type": "code",
   "execution_count": null,
   "metadata": {},
   "outputs": [],
   "source": []
  },
  {
   "cell_type": "code",
   "execution_count": null,
   "metadata": {},
   "outputs": [],
   "source": []
  },
  {
   "cell_type": "code",
   "execution_count": null,
   "metadata": {},
   "outputs": [],
   "source": []
  },
  {
   "cell_type": "code",
   "execution_count": null,
   "metadata": {},
   "outputs": [],
   "source": []
  }
 ],
 "metadata": {
  "kernelspec": {
   "display_name": "Python 3",
   "language": "python",
   "name": "python3"
  },
  "language_info": {
   "codemirror_mode": {
    "name": "ipython",
    "version": 3
   },
   "file_extension": ".py",
   "mimetype": "text/x-python",
   "name": "python",
   "nbconvert_exporter": "python",
   "pygments_lexer": "ipython3",
   "version": "3.12.2"
  }
 },
 "nbformat": 4,
 "nbformat_minor": 2
}
